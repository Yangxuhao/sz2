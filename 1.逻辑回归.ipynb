{
 "cells": [
  {
   "cell_type": "code",
   "execution_count": 1,
   "metadata": {
    "collapsed": true
   },
   "outputs": [],
   "source": [
    "import sklearn\n",
    "import numpy as np\n",
    "import pandas as pd\n",
    "import matplotlib.pyplot as plt\n",
    "%matplotlib inline\n",
    "from sklearn.linear_model import LinearRegression\n",
    "import sklearn.datasets as datasets"
   ]
  },
  {
   "cell_type": "code",
   "execution_count": 2,
   "metadata": {},
   "outputs": [
    {
     "data": {
      "text/plain": [
       "{'data': array([[ 0.03807591,  0.05068012,  0.06169621, ..., -0.00259226,\n          0.01990842, -0.01764613],\n        [-0.00188202, -0.04464164, -0.05147406, ..., -0.03949338,\n         -0.06832974, -0.09220405],\n        [ 0.08529891,  0.05068012,  0.04445121, ..., -0.00259226,\n          0.00286377, -0.02593034],\n        ...,\n        [ 0.04170844,  0.05068012, -0.01590626, ..., -0.01107952,\n         -0.04687948,  0.01549073],\n        [-0.04547248, -0.04464164,  0.03906215, ...,  0.02655962,\n          0.04452837, -0.02593034],\n        [-0.04547248, -0.04464164, -0.0730303 , ..., -0.03949338,\n         -0.00421986,  0.00306441]]),\n 'target': array([151.,  75., 141., 206., 135.,  97., 138.,  63., 110., 310., 101.,\n         69., 179., 185., 118., 171., 166., 144.,  97., 168.,  68.,  49.,\n         68., 245., 184., 202., 137.,  85., 131., 283., 129.,  59., 341.,\n         87.,  65., 102., 265., 276., 252.,  90., 100.,  55.,  61.,  92.,\n        259.,  53., 190., 142.,  75., 142., 155., 225.,  59., 104., 182.,\n        128.,  52.,  37., 170., 170.,  61., 144.,  52., 128.,  71., 163.,\n        150.,  97., 160., 178.,  48., 270., 202., 111.,  85.,  42., 170.,\n        200., 252., 113., 143.,  51.,  52., 210.,  65., 141.,  55., 134.,\n         42., 111.,  98., 164.,  48.,  96.,  90., 162., 150., 279.,  92.,\n         83., 128., 102., 302., 198.,  95.,  53., 134., 144., 232.,  81.,\n        104.,  59., 246., 297., 258., 229., 275., 281., 179., 200., 200.,\n        173., 180.,  84., 121., 161.,  99., 109., 115., 268., 274., 158.,\n        107.,  83., 103., 272.,  85., 280., 336., 281., 118., 317., 235.,\n         60., 174., 259., 178., 128.,  96., 126., 288.,  88., 292.,  71.,\n        197., 186.,  25.,  84.,  96., 195.,  53., 217., 172., 131., 214.,\n         59.,  70., 220., 268., 152.,  47.,  74., 295., 101., 151., 127.,\n        237., 225.,  81., 151., 107.,  64., 138., 185., 265., 101., 137.,\n        143., 141.,  79., 292., 178.,  91., 116.,  86., 122.,  72., 129.,\n        142.,  90., 158.,  39., 196., 222., 277.,  99., 196., 202., 155.,\n         77., 191.,  70.,  73.,  49.,  65., 263., 248., 296., 214., 185.,\n         78.,  93., 252., 150.,  77., 208.,  77., 108., 160.,  53., 220.,\n        154., 259.,  90., 246., 124.,  67.,  72., 257., 262., 275., 177.,\n         71.,  47., 187., 125.,  78.,  51., 258., 215., 303., 243.,  91.,\n        150., 310., 153., 346.,  63.,  89.,  50.,  39., 103., 308., 116.,\n        145.,  74.,  45., 115., 264.,  87., 202., 127., 182., 241.,  66.,\n         94., 283.,  64., 102., 200., 265.,  94., 230., 181., 156., 233.,\n         60., 219.,  80.,  68., 332., 248.,  84., 200.,  55.,  85.,  89.,\n         31., 129.,  83., 275.,  65., 198., 236., 253., 124.,  44., 172.,\n        114., 142., 109., 180., 144., 163., 147.,  97., 220., 190., 109.,\n        191., 122., 230., 242., 248., 249., 192., 131., 237.,  78., 135.,\n        244., 199., 270., 164.,  72.,  96., 306.,  91., 214.,  95., 216.,\n        263., 178., 113., 200., 139., 139.,  88., 148.,  88., 243.,  71.,\n         77., 109., 272.,  60.,  54., 221.,  90., 311., 281., 182., 321.,\n         58., 262., 206., 233., 242., 123., 167.,  63., 197.,  71., 168.,\n        140., 217., 121., 235., 245.,  40.,  52., 104., 132.,  88.,  69.,\n        219.,  72., 201., 110.,  51., 277.,  63., 118.,  69., 273., 258.,\n         43., 198., 242., 232., 175.,  93., 168., 275., 293., 281.,  72.,\n        140., 189., 181., 209., 136., 261., 113., 131., 174., 257.,  55.,\n         84.,  42., 146., 212., 233.,  91., 111., 152., 120.,  67., 310.,\n         94., 183.,  66., 173.,  72.,  49.,  64.,  48., 178., 104., 132.,\n        220.,  57.]),\n 'DESCR': '.. _diabetes_dataset:\\n\\nDiabetes dataset\\n----------------\\n\\nTen baseline variables, age, sex, body mass index, average blood\\npressure, and six blood serum measurements were obtained for each of n =\\n442 diabetes patients, as well as the response of interest, a\\nquantitative measure of disease progression one year after baseline.\\n\\n**Data Set Characteristics:**\\n\\n  :Number of Instances: 442\\n\\n  :Number of Attributes: First 10 columns are numeric predictive values\\n\\n  :Target: Column 11 is a quantitative measure of disease progression one year after baseline\\n\\n  :Attribute Information:\\n      - Age\\n      - Sex\\n      - Body mass index\\n      - Average blood pressure\\n      - S1\\n      - S2\\n      - S3\\n      - S4\\n      - S5\\n      - S6\\n\\nNote: Each of these 10 feature variables have been mean centered and scaled by the standard deviation times `n_samples` (i.e. the sum of squares of each column totals 1).\\n\\nSource URL:\\nhttp://www4.stat.ncsu.edu/~boos/var.select/diabetes.html\\n\\nFor more information see:\\nBradley Efron, Trevor Hastie, Iain Johnstone and Robert Tibshirani (2004) \"Least Angle Regression,\" Annals of Statistics (with discussion), 407-499.\\n(http://web.stanford.edu/~hastie/Papers/LARS/LeastAngle_2002.pdf)',\n 'feature_names': ['age',\n  'sex',\n  'bmi',\n  'bp',\n  's1',\n  's2',\n  's3',\n  's4',\n  's5',\n  's6'],\n 'data_filename': 'C:\\\\Users\\\\xuhao_yang\\\\AppData\\\\Roaming\\\\Python\\\\Python36\\\\site-packages\\\\sklearn\\\\datasets\\\\data\\\\diabetes_data.csv.gz',\n 'target_filename': 'C:\\\\Users\\\\xuhao_yang\\\\AppData\\\\Roaming\\\\Python\\\\Python36\\\\site-packages\\\\sklearn\\\\datasets\\\\data\\\\diabetes_target.csv.gz'}"
      ]
     },
     "execution_count": 2,
     "metadata": {},
     "output_type": "execute_result"
    }
   ],
   "source": [
    "diabetes=datasets.load_diabetes()#糖尿病数据\n",
    "diabetes"
   ]
  },
  {
   "cell_type": "code",
   "execution_count": 3,
   "metadata": {},
   "outputs": [
    {
     "data": {
      "text/plain": [
       "(442, 10)"
      ]
     },
     "execution_count": 3,
     "metadata": {},
     "output_type": "execute_result"
    }
   ],
   "source": [
    "x=diabetes.data\n",
    "x.shape"
   ]
  },
  {
   "cell_type": "code",
   "execution_count": 4,
   "metadata": {},
   "outputs": [
    {
     "data": {
      "text/plain": [
       "array([151.,  75., 141., 206., 135.,  97., 138.,  63., 110., 310., 101.,\n        69., 179., 185., 118., 171., 166., 144.,  97., 168.,  68.,  49.,\n        68., 245., 184., 202., 137.,  85., 131., 283., 129.,  59., 341.,\n        87.,  65., 102., 265., 276., 252.,  90., 100.,  55.,  61.,  92.,\n       259.,  53., 190., 142.,  75., 142., 155., 225.,  59., 104., 182.,\n       128.,  52.,  37., 170., 170.,  61., 144.,  52., 128.,  71., 163.,\n       150.,  97., 160., 178.,  48., 270., 202., 111.,  85.,  42., 170.,\n       200., 252., 113., 143.,  51.,  52., 210.,  65., 141.,  55., 134.,\n        42., 111.,  98., 164.,  48.,  96.,  90., 162., 150., 279.,  92.,\n        83., 128., 102., 302., 198.,  95.,  53., 134., 144., 232.,  81.,\n       104.,  59., 246., 297., 258., 229., 275., 281., 179., 200., 200.,\n       173., 180.,  84., 121., 161.,  99., 109., 115., 268., 274., 158.,\n       107.,  83., 103., 272.,  85., 280., 336., 281., 118., 317., 235.,\n        60., 174., 259., 178., 128.,  96., 126., 288.,  88., 292.,  71.,\n       197., 186.,  25.,  84.,  96., 195.,  53., 217., 172., 131., 214.,\n        59.,  70., 220., 268., 152.,  47.,  74., 295., 101., 151., 127.,\n       237., 225.,  81., 151., 107.,  64., 138., 185., 265., 101., 137.,\n       143., 141.,  79., 292., 178.,  91., 116.,  86., 122.,  72., 129.,\n       142.,  90., 158.,  39., 196., 222., 277.,  99., 196., 202., 155.,\n        77., 191.,  70.,  73.,  49.,  65., 263., 248., 296., 214., 185.,\n        78.,  93., 252., 150.,  77., 208.,  77., 108., 160.,  53., 220.,\n       154., 259.,  90., 246., 124.,  67.,  72., 257., 262., 275., 177.,\n        71.,  47., 187., 125.,  78.,  51., 258., 215., 303., 243.,  91.,\n       150., 310., 153., 346.,  63.,  89.,  50.,  39., 103., 308., 116.,\n       145.,  74.,  45., 115., 264.,  87., 202., 127., 182., 241.,  66.,\n        94., 283.,  64., 102., 200., 265.,  94., 230., 181., 156., 233.,\n        60., 219.,  80.,  68., 332., 248.,  84., 200.,  55.,  85.,  89.,\n        31., 129.,  83., 275.,  65., 198., 236., 253., 124.,  44., 172.,\n       114., 142., 109., 180., 144., 163., 147.,  97., 220., 190., 109.,\n       191., 122., 230., 242., 248., 249., 192., 131., 237.,  78., 135.,\n       244., 199., 270., 164.,  72.,  96., 306.,  91., 214.,  95., 216.,\n       263., 178., 113., 200., 139., 139.,  88., 148.,  88., 243.,  71.,\n        77., 109., 272.,  60.,  54., 221.,  90., 311., 281., 182., 321.,\n        58., 262., 206., 233., 242., 123., 167.,  63., 197.,  71., 168.,\n       140., 217., 121., 235., 245.,  40.,  52., 104., 132.,  88.,  69.,\n       219.,  72., 201., 110.,  51., 277.,  63., 118.,  69., 273., 258.,\n        43., 198., 242., 232., 175.,  93., 168., 275., 293., 281.,  72.,\n       140., 189., 181., 209., 136., 261., 113., 131., 174., 257.,  55.,\n        84.,  42., 146., 212., 233.,  91., 111., 152., 120.,  67., 310.,\n        94., 183.,  66., 173.,  72.,  49.,  64.,  48., 178., 104., 132.,\n       220.,  57.])"
      ]
     },
     "execution_count": 4,
     "metadata": {},
     "output_type": "execute_result"
    }
   ],
   "source": [
    "y=diabetes.target\n",
    "y"
   ]
  },
  {
   "cell_type": "code",
   "execution_count": 5,
   "metadata": {},
   "outputs": [
    {
     "data": {
      "text/plain": [
       "array([[ 0.03807591,  0.05068012,  0.06169621, ..., -0.00259226,\n         0.01990842, -0.01764613],\n       [-0.00188202, -0.04464164, -0.05147406, ..., -0.03949338,\n        -0.06832974, -0.09220405],\n       [ 0.08529891,  0.05068012,  0.04445121, ..., -0.00259226,\n         0.00286377, -0.02593034],\n       ...,\n       [ 0.04170844,  0.05068012, -0.01590626, ..., -0.01107952,\n        -0.04687948,  0.01549073],\n       [-0.04547248, -0.04464164,  0.03906215, ...,  0.02655962,\n         0.04452837, -0.02593034],\n       [-0.04547248, -0.04464164, -0.0730303 , ..., -0.03949338,\n        -0.00421986,  0.00306441]])"
      ]
     },
     "execution_count": 5,
     "metadata": {},
     "output_type": "execute_result"
    }
   ],
   "source": [
    "x"
   ]
  },
  {
   "cell_type": "code",
   "execution_count": 6,
   "metadata": {},
   "outputs": [
    {
     "data": {
      "text/plain": [
       "(442, 1)"
      ]
     },
     "execution_count": 6,
     "metadata": {},
     "output_type": "execute_result"
    }
   ],
   "source": [
    "x=x[:,np.newaxis,2]\n",
    "x.shape"
   ]
  },
  {
   "cell_type": "code",
   "execution_count": 13,
   "metadata": {},
   "outputs": [
    {
     "data": {
      "text/plain": [
       "array([[ 0.06169621],\n       [-0.05147406],\n       [ 0.04445121],\n       [-0.01159501],\n       [-0.03638469],\n       [-0.04069594],\n       [-0.04716281],\n       [-0.00189471],\n       [ 0.06169621],\n       [ 0.03906215],\n       [-0.08380842],\n       [ 0.01750591],\n       [-0.02884001],\n       [-0.00189471],\n       [-0.02560657],\n       [-0.01806189],\n       [ 0.04229559],\n       [ 0.01211685],\n       [-0.0105172 ],\n       [-0.01806189],\n       [-0.05686312],\n       [-0.02237314],\n       [-0.00405033],\n       [ 0.06061839],\n       [ 0.03582872],\n       [-0.01267283],\n       [-0.07734155],\n       [ 0.05954058],\n       [-0.02129532],\n       [-0.00620595],\n       [ 0.04445121],\n       [-0.06548562],\n       [ 0.12528712],\n       [-0.05039625],\n       [-0.06332999],\n       [-0.03099563],\n       [ 0.02289497],\n       [ 0.01103904],\n       [ 0.07139652],\n       [ 0.01427248],\n       [-0.00836158],\n       [-0.06764124],\n       [-0.0105172 ],\n       [-0.02345095],\n       [ 0.06816308],\n       [-0.03530688],\n       [-0.01159501],\n       [-0.0730303 ],\n       [-0.04177375],\n       [ 0.01427248],\n       [-0.00728377],\n       [ 0.0164281 ],\n       [-0.00943939],\n       [-0.01590626],\n       [ 0.0250506 ],\n       [-0.04931844],\n       [ 0.04121778],\n       [-0.06332999],\n       [-0.06440781],\n       [-0.02560657],\n       [-0.00405033],\n       [ 0.00457217],\n       [-0.00728377],\n       [-0.0374625 ],\n       [-0.02560657],\n       [-0.02452876],\n       [-0.01806189],\n       [-0.01482845],\n       [-0.02991782],\n       [-0.046085  ],\n       [-0.06979687],\n       [ 0.03367309],\n       [-0.00405033],\n       [-0.02021751],\n       [ 0.00241654],\n       [-0.03099563],\n       [ 0.02828403],\n       [-0.03638469],\n       [-0.05794093],\n       [-0.0374625 ],\n       [ 0.01211685],\n       [-0.02237314],\n       [-0.03530688],\n       [ 0.00996123],\n       [-0.03961813],\n       [ 0.07139652],\n       [-0.07518593],\n       [-0.00620595],\n       [-0.04069594],\n       [-0.04824063],\n       [-0.02560657],\n       [ 0.0519959 ],\n       [ 0.00457217],\n       [-0.06440781],\n       [-0.01698407],\n       [-0.05794093],\n       [ 0.00996123],\n       [ 0.08864151],\n       [-0.00512814],\n       [-0.06440781],\n       [ 0.01750591],\n       [-0.04500719],\n       [ 0.02828403],\n       [ 0.04121778],\n       [ 0.06492964],\n       [-0.03207344],\n       [-0.07626374],\n       [ 0.04984027],\n       [ 0.04552903],\n       [-0.00943939],\n       [-0.03207344],\n       [ 0.00457217],\n       [ 0.02073935],\n       [ 0.01427248],\n       [ 0.11019775],\n       [ 0.00133873],\n       [ 0.05846277],\n       [-0.02129532],\n       [-0.0105172 ],\n       [-0.04716281],\n       [ 0.00457217],\n       [ 0.01750591],\n       [ 0.08109682],\n       [ 0.0347509 ],\n       [ 0.02397278],\n       [-0.00836158],\n       [-0.06117437],\n       [-0.00189471],\n       [-0.06225218],\n       [ 0.0164281 ],\n       [ 0.09618619],\n       [-0.06979687],\n       [-0.02129532],\n       [-0.05362969],\n       [ 0.0433734 ],\n       [ 0.05630715],\n       [-0.0816528 ],\n       [ 0.04984027],\n       [ 0.11127556],\n       [ 0.06169621],\n       [ 0.01427248],\n       [ 0.04768465],\n       [ 0.01211685],\n       [ 0.00564998],\n       [ 0.04660684],\n       [ 0.12852056],\n       [ 0.05954058],\n       [ 0.09295276],\n       [ 0.01535029],\n       [-0.00512814],\n       [ 0.0703187 ],\n       [-0.00405033],\n       [-0.00081689],\n       [-0.04392938],\n       [ 0.02073935],\n       [ 0.06061839],\n       [-0.0105172 ],\n       [-0.03315126],\n       [-0.06548562],\n       [ 0.0433734 ],\n       [-0.06225218],\n       [ 0.06385183],\n       [ 0.03043966],\n       [ 0.07247433],\n       [-0.0191397 ],\n       [-0.06656343],\n       [-0.06009656],\n       [ 0.06924089],\n       [ 0.05954058],\n       [-0.02668438],\n       [-0.02021751],\n       [-0.046085  ],\n       [ 0.07139652],\n       [-0.07949718],\n       [ 0.00996123],\n       [-0.03854032],\n       [ 0.01966154],\n       [ 0.02720622],\n       [-0.00836158],\n       [-0.01590626],\n       [ 0.00457217],\n       [-0.04285156],\n       [ 0.00564998],\n       [-0.03530688],\n       [ 0.02397278],\n       [-0.01806189],\n       [ 0.04229559],\n       [-0.0547075 ],\n       [-0.00297252],\n       [-0.06656343],\n       [-0.01267283],\n       [-0.04177375],\n       [-0.03099563],\n       [-0.00512814],\n       [-0.05901875],\n       [ 0.0250506 ],\n       [-0.046085  ],\n       [ 0.00349435],\n       [ 0.05415152],\n       [-0.04500719],\n       [-0.05794093],\n       [-0.05578531],\n       [ 0.00133873],\n       [ 0.03043966],\n       [ 0.00672779],\n       [ 0.04660684],\n       [ 0.02612841],\n       [ 0.04552903],\n       [ 0.04013997],\n       [-0.01806189],\n       [ 0.01427248],\n       [ 0.03690653],\n       [ 0.00349435],\n       [-0.07087468],\n       [-0.03315126],\n       [ 0.09403057],\n       [ 0.03582872],\n       [ 0.03151747],\n       [-0.06548562],\n       [-0.04177375],\n       [-0.03961813],\n       [-0.03854032],\n       [-0.02560657],\n       [-0.02345095],\n       [-0.06656343],\n       [ 0.03259528],\n       [-0.046085  ],\n       [-0.02991782],\n       [-0.01267283],\n       [-0.01590626],\n       [ 0.07139652],\n       [-0.03099563],\n       [ 0.00026092],\n       [ 0.03690653],\n       [ 0.03906215],\n       [-0.01482845],\n       [ 0.00672779],\n       [-0.06871905],\n       [-0.00943939],\n       [ 0.01966154],\n       [ 0.07462995],\n       [-0.00836158],\n       [-0.02345095],\n       [-0.046085  ],\n       [ 0.05415152],\n       [-0.03530688],\n       [-0.03207344],\n       [-0.0816528 ],\n       [ 0.04768465],\n       [ 0.06061839],\n       [ 0.05630715],\n       [ 0.09834182],\n       [ 0.05954058],\n       [ 0.03367309],\n       [ 0.05630715],\n       [-0.06548562],\n       [ 0.16085492],\n       [-0.05578531],\n       [-0.02452876],\n       [-0.03638469],\n       [-0.00836158],\n       [-0.04177375],\n       [ 0.12744274],\n       [-0.07734155],\n       [ 0.02828403],\n       [-0.02560657],\n       [-0.06225218],\n       [-0.00081689],\n       [ 0.08864151],\n       [-0.03207344],\n       [ 0.03043966],\n       [ 0.00888341],\n       [ 0.00672779],\n       [-0.02021751],\n       [-0.02452876],\n       [-0.01159501],\n       [ 0.02612841],\n       [-0.05901875],\n       [-0.03638469],\n       [-0.02452876],\n       [ 0.01858372],\n       [-0.0902753 ],\n       [-0.00512814],\n       [-0.05255187],\n       [-0.02237314],\n       [-0.02021751],\n       [-0.0547075 ],\n       [-0.00620595],\n       [-0.01698407],\n       [ 0.05522933],\n       [ 0.07678558],\n       [ 0.01858372],\n       [-0.02237314],\n       [ 0.09295276],\n       [-0.03099563],\n       [ 0.03906215],\n       [-0.06117437],\n       [-0.00836158],\n       [-0.0374625 ],\n       [-0.01375064],\n       [ 0.07355214],\n       [-0.02452876],\n       [ 0.03367309],\n       [ 0.0347509 ],\n       [-0.03854032],\n       [-0.03961813],\n       [-0.00189471],\n       [-0.03099563],\n       [-0.046085  ],\n       [ 0.00133873],\n       [ 0.06492964],\n       [ 0.04013997],\n       [-0.02345095],\n       [ 0.05307371],\n       [ 0.04013997],\n       [-0.02021751],\n       [ 0.01427248],\n       [-0.03422907],\n       [ 0.00672779],\n       [ 0.00457217],\n       [ 0.03043966],\n       [ 0.0519959 ],\n       [ 0.06169621],\n       [-0.00728377],\n       [ 0.00564998],\n       [ 0.05415152],\n       [-0.00836158],\n       [ 0.114509  ],\n       [ 0.06708527],\n       [-0.05578531],\n       [ 0.03043966],\n       [-0.02560657],\n       [ 0.10480869],\n       [-0.00620595],\n       [-0.04716281],\n       [-0.04824063],\n       [ 0.08540807],\n       [-0.01267283],\n       [-0.03315126],\n       [-0.00728377],\n       [-0.01375064],\n       [ 0.05954058],\n       [ 0.02181716],\n       [ 0.01858372],\n       [-0.01159501],\n       [-0.00297252],\n       [ 0.01750591],\n       [-0.02991782],\n       [-0.02021751],\n       [-0.05794093],\n       [ 0.06061839],\n       [-0.04069594],\n       [-0.07195249],\n       [-0.05578531],\n       [ 0.04552903],\n       [-0.00943939],\n       [-0.03315126],\n       [ 0.04984027],\n       [-0.08488624],\n       [ 0.00564998],\n       [ 0.02073935],\n       [-0.00728377],\n       [ 0.10480869],\n       [-0.02452876],\n       [-0.00620595],\n       [-0.03854032],\n       [ 0.13714305],\n       [ 0.17055523],\n       [ 0.00241654],\n       [ 0.03798434],\n       [-0.05794093],\n       [-0.00943939],\n       [-0.02345095],\n       [-0.0105172 ],\n       [-0.03422907],\n       [-0.00297252],\n       [ 0.06816308],\n       [ 0.00996123],\n       [ 0.00241654],\n       [-0.03854032],\n       [ 0.02612841],\n       [-0.08919748],\n       [ 0.06061839],\n       [-0.02884001],\n       [-0.02991782],\n       [-0.0191397 ],\n       [-0.04069594],\n       [ 0.01535029],\n       [-0.02452876],\n       [ 0.00133873],\n       [ 0.06924089],\n       [-0.06979687],\n       [-0.02991782],\n       [-0.046085  ],\n       [ 0.01858372],\n       [ 0.00133873],\n       [-0.03099563],\n       [-0.00405033],\n       [ 0.01535029],\n       [ 0.02289497],\n       [ 0.04552903],\n       [-0.04500719],\n       [-0.03315126],\n       [ 0.097264  ],\n       [ 0.05415152],\n       [ 0.12313149],\n       [-0.08057499],\n       [ 0.09295276],\n       [-0.05039625],\n       [-0.01159501],\n       [-0.0277622 ],\n       [ 0.05846277],\n       [ 0.08540807],\n       [-0.00081689],\n       [ 0.00672779],\n       [ 0.00888341],\n       [ 0.08001901],\n       [ 0.07139652],\n       [-0.02452876],\n       [-0.0547075 ],\n       [-0.03638469],\n       [ 0.0164281 ],\n       [ 0.07786339],\n       [-0.03961813],\n       [ 0.01103904],\n       [-0.04069594],\n       [-0.03422907],\n       [ 0.00564998],\n       [ 0.08864151],\n       [-0.03315126],\n       [-0.05686312],\n       [-0.03099563],\n       [ 0.05522933],\n       [-0.06009656],\n       [ 0.00133873],\n       [-0.02345095],\n       [-0.07410811],\n       [ 0.01966154],\n       [-0.01590626],\n       [-0.01590626],\n       [ 0.03906215],\n       [-0.0730303 ]])"
      ]
     },
     "execution_count": 13,
     "metadata": {},
     "output_type": "execute_result"
    }
   ],
   "source": [
    "x"
   ]
  },
  {
   "cell_type": "code",
   "execution_count": 7,
   "metadata": {},
   "outputs": [],
   "source": [
    "x_train=x[:-20]\n",
    "x_test=x[-20:]\n",
    "y_train=y[:-20]\n",
    "y_test=y[-20:]"
   ]
  },
  {
   "cell_type": "code",
   "execution_count": 8,
   "metadata": {},
   "outputs": [],
   "source": [
    "lrg=LinearRegression()"
   ]
  },
  {
   "cell_type": "code",
   "execution_count": 9,
   "metadata": {},
   "outputs": [
    {
     "data": {
      "text/plain": [
       "LinearRegression(copy_X=True, fit_intercept=True, n_jobs=None,\n         normalize=False)"
      ]
     },
     "execution_count": 9,
     "metadata": {},
     "output_type": "execute_result"
    }
   ],
   "source": [
    "lrg.fit(x_train,y_train)"
   ]
  },
  {
   "cell_type": "code",
   "execution_count": 10,
   "metadata": {},
   "outputs": [],
   "source": [
    "y_new=lrg.predict(x_test)"
   ]
  },
  {
   "cell_type": "code",
   "execution_count": 11,
   "metadata": {},
   "outputs": [
    {
     "data": {
      "text/plain": [
       "array([225.9732401 , 115.74763374, 163.27610621, 114.73638965,\n       120.80385422, 158.21988574, 236.08568105, 121.81509832,\n        99.56772822, 123.83758651, 204.73711411,  96.53399594,\n       154.17490936, 130.91629517,  83.3878227 , 171.36605897,\n       137.99500384, 137.99500384, 189.56845268,  84.3990668 ])"
      ]
     },
     "execution_count": 11,
     "metadata": {},
     "output_type": "execute_result"
    }
   ],
   "source": [
    "y_new"
   ]
  },
  {
   "cell_type": "code",
   "execution_count": 12,
   "metadata": {},
   "outputs": [
    {
     "data": {
      "text/plain": [
       "[<matplotlib.lines.Line2D at 0x24774fefc18>]"
      ]
     },
     "execution_count": 12,
     "metadata": {},
     "output_type": "execute_result"
    },
    {
     "data": {
      "image/png": "[encoded data removed]",
      "text/plain": [
       "<Figure size 432x288 with 1 Axes>"
      ]
     },
     "metadata": {},
     "output_type": "display_data"
    }
   ],
   "source": [
    "plt.scatter(x_test,y_test)\n",
    "plt.plot(x_test,y_new,\"r\")"
   ]
  },
  {
   "cell_type": "code",
   "execution_count": null,
   "metadata": {},
   "outputs": [],
   "source": [
    ""
   ]
  }
 ],
 "metadata": {
  "kernelspec": {
   "display_name": "Python 2",
   "language": "python",
   "name": "python2"
  },
  "language_info": {
   "codemirror_mode": {
    "name": "ipython",
    "version": 2.0
   },
   "file_extension": ".py",
   "mimetype": "text/x-python",
   "name": "python",
   "nbconvert_exporter": "python",
   "pygments_lexer": "ipython2",
   "version": "2.7.6"
  }
 },
 "nbformat": 4,
 "nbformat_minor": 0
}